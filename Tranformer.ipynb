{
 "cells": [
  {
   "cell_type": "code",
   "id": "initial_id",
   "metadata": {
    "collapsed": true,
    "ExecuteTime": {
     "end_time": "2025-04-10T08:48:59.325212Z",
     "start_time": "2025-04-10T08:48:55.395467Z"
    }
   },
   "source": [
    "import numpy as np\n",
    "import pandas as pd\n",
    "import torch"
   ],
   "outputs": [],
   "execution_count": 3
  },
  {
   "metadata": {
    "ExecuteTime": {
     "end_time": "2025-04-10T08:49:01.783811Z",
     "start_time": "2025-04-10T08:49:01.775108Z"
    }
   },
   "cell_type": "code",
   "source": [
    "with open(\"C://Users//adity//LLM//India, officially the Republic of I.txt\",'r',encoding='utf-8') as f:\n",
    "    raw_text=f.read()\n",
    "print(len(raw_text))\n",
    "print(raw_text[:100])"
   ],
   "id": "420a4dfdadcdee66",
   "outputs": [
    {
     "name": "stdout",
     "output_type": "stream",
     "text": [
      "55955\n",
      "India, officially the Republic of India,[j][21] is a country in South Asia. It is the seventh-larges\n"
     ]
    }
   ],
   "execution_count": 4
  },
  {
   "metadata": {
    "ExecuteTime": {
     "end_time": "2025-04-10T11:14:59.775714Z",
     "start_time": "2025-04-10T11:14:59.765219Z"
    }
   },
   "cell_type": "code",
   "source": [
    "from torch.utils.data import Dataset, DataLoader\n",
    "import tiktoken\n",
    "\n",
    "class GPTTokenizerDataset(Dataset):\n",
    "    def __init__(self, txt, tokenizer, max_length, stride):\n",
    "        self.tokenizer = tokenizer\n",
    "        self.input_ids = []\n",
    "        self.target_ids = []\n",
    "        token_ids = self.tokenizer.encode(txt)\n",
    "\n",
    "        for i in range(0, len(token_ids) - max_length, stride):\n",
    "            input_chunk = token_ids[i:i + max_length]\n",
    "            target_chunk = token_ids[i + 1:i + max_length + 1]\n",
    "            self.input_ids.append(torch.tensor(input_chunk))\n",
    "            self.target_ids.append(torch.tensor(target_chunk))\n",
    "    def __len__(self):\n",
    "        return len(self.input_ids)\n",
    "    def __getitem__(self, idx):\n",
    "        return self.input_ids[idx], self.target_ids[idx]\n",
    "def create_dataloader_v1(txt, batch_size=4, max_length=256, stride=128, shuffle=True, drop_last=True):\n",
    "    tokenizer = tiktoken.get_encoding(\"gpt2\")\n",
    "    dataset = GPTTokenizerDataset(txt, tokenizer, max_length, stride)\n",
    "    dataloader = DataLoader(\n",
    "        dataset, batch_size=batch_size, shuffle=shuffle, drop_last=drop_last\n",
    "    )\n",
    "    return dataloader"
   ],
   "id": "dd29070035dafb99",
   "outputs": [],
   "execution_count": 25
  },
  {
   "metadata": {},
   "cell_type": "markdown",
   "source": "Coding up the Attention model:- Here we would be creating a class of the causal attention and instantiating multiple times for the multihead attention model.",
   "id": "c34f6594f2501fd3"
  },
  {
   "metadata": {},
   "cell_type": "markdown",
   "source": [
    "Now for example if we set the number of heads we want is 10, then what exactly happens:-\n",
    "--> we obtain a tensor with ten sets of context vector matrices.\n",
    "--> In each context vector matrix the rows represent the context vectors corresponding to the tokens, and the columns corresponding to the embedding dimension specified via d_out.\n",
    "--> Final embedding dimension is 10 x 10."
   ],
   "id": "779103be54de3305"
  },
  {
   "metadata": {},
   "cell_type": "markdown",
   "source": "IMPLEMENTING THE PARALLEL METHOD OF IMPLEMENTATION.",
   "id": "55a1ded1a5143e4b"
  },
  {
   "metadata": {
    "ExecuteTime": {
     "end_time": "2025-04-10T10:19:39.302801Z",
     "start_time": "2025-04-10T10:19:39.289876Z"
    }
   },
   "cell_type": "code",
   "source": [
    "import torch\n",
    "import torch.nn as nn\n",
    "\n",
    "class MultiHeadAttention(nn.Module):\n",
    "    def __init__(self, d_in, d_out, context_length, dropout, num_heads, qkv_bias=False):\n",
    "        super().__init__()\n",
    "        assert d_out % num_heads == 0, \"d_out must be divisible by num_heads\"\n",
    "        self.d_out = d_out\n",
    "        self.num_heads = num_heads\n",
    "        self.head_dim = d_out // num_heads\n",
    "        self.W_query = nn.Linear(d_in, d_out, bias=qkv_bias)\n",
    "        self.W_key = nn.Linear(d_in, d_out, bias=qkv_bias)\n",
    "        self.W_value = nn.Linear(d_in, d_out, bias=qkv_bias)\n",
    "        self.out_proj = nn.Linear(d_out, d_out)\n",
    "        self.dropout = nn.Dropout(dropout)\n",
    "        self.register_buffer(\n",
    "            'mask',\n",
    "            torch.triu(torch.ones(context_length, context_length), diagonal=1)\n",
    "        )\n",
    "    def forward(self, x):\n",
    "        b, num_tokens, d_in = x.shape\n",
    "        keys = self.W_key(x)\n",
    "        queries = self.W_query(x)\n",
    "        values = self.W_value(x)\n",
    "        keys = keys.view(b, num_tokens, self.num_heads, self.head_dim)\n",
    "        values = values.view(b, num_tokens, self.num_heads, self.head_dim)\n",
    "        queries = queries.view(b, num_tokens, self.num_heads, self.head_dim)\n",
    "        keys = keys.transpose(1, 2)\n",
    "        queries = queries.transpose(1, 2)\n",
    "        values = values.transpose(1, 2)\n",
    "        attn_scores = queries @ keys.transpose(2, 3)\n",
    "        mask_bool = self.mask.bool()[:num_tokens, :num_tokens]\n",
    "        attn_scores.masked_fill_(mask_bool, -torch.inf)\n",
    "        attn_weights = torch.softmax(attn_scores / keys.shape[-1]**0.5, dim=-1)\n",
    "        attn_weights = self.dropout(attn_weights)\n",
    "        context_vec = (attn_weights @ values).transpose(1, 2)\n",
    "        context_vec = context_vec.contiguous().view(b, num_tokens, self.d_out)\n",
    "        context_vec = self.out_proj(context_vec)\n",
    "        return context_vec"
   ],
   "id": "9ffdb4830dd6536c",
   "outputs": [],
   "execution_count": 16
  },
  {
   "metadata": {
    "ExecuteTime": {
     "end_time": "2025-04-10T10:36:55.175764Z",
     "start_time": "2025-04-10T10:36:55.169341Z"
    }
   },
   "cell_type": "code",
   "source": [
    "#Defining the parameters\n",
    "GPT_CONFIG={\n",
    "    'vocab_size':50000,\n",
    "    'context_length':1024,\n",
    "    'embedding_dim':512,\n",
    "    'num_heads':16,\n",
    "    'n_layers':12,\n",
    "    'dropout':0.1,\n",
    "    'qkv_bias':False #Whether to include a bias layer in the linear layers of the multi head attention for query,key and value computations.\n",
    "}"
   ],
   "id": "4f7ad555c6c06399",
   "outputs": [],
   "execution_count": 19
  },
  {
   "metadata": {},
   "cell_type": "markdown",
   "source": "Coding up the placeholder architecture, it is like the mothership from where all the robots will branch out",
   "id": "47e51a02ecec92d5"
  },
  {
   "metadata": {
    "ExecuteTime": {
     "end_time": "2025-04-10T10:43:28.743968Z",
     "start_time": "2025-04-10T10:43:28.729634Z"
    }
   },
   "cell_type": "code",
   "source": [
    "class GPT_Model(nn.Module):\n",
    "    def __init__(self, config):\n",
    "        super().__init__()\n",
    "        self.tok_emb = nn.Embedding(cfg[\"vocab_size\"], cfg[\"emb_dim\"])\n",
    "        self.pos_emb = nn.Embedding(cfg[\"context_length\"], cfg[\"emb_dim\"])\n",
    "        self.drop_emb = nn.Dropout(cfg[\"drop_rate\"])\n",
    "        self.trf_blocks = nn.Sequential(\n",
    "            *[DummyTransformerBlock(cfg) for _ in range(cfg[\"n_layers\"])]\n",
    "        )\n",
    "        self.final_norm = DummyLayerNorm(cfg[\"emb_dim\"])\n",
    "        self.out_head = nn.Linear(cfg[\"emb_dim\"], cfg[\"vocab_size\"], bias=False)\n",
    "    def forward(self,in_idx):\n",
    "        batch_size,seq_len=in_idx.shape\n",
    "        token_embeddings=self.tok_emb(in_idx)\n",
    "        positional_embeddings=self.pos_emb(in_idx)\n",
    "        x=token_embeddings+positional_embeddings\n",
    "        x=self.drop_emb(x)\n",
    "        x=self.trf_blocks(x)\n",
    "        x=self.final_norm(x)\n",
    "        logits=self.out_head(x)\n",
    "        return logits\n",
    "\n",
    "class TransformerBlock(nn.Module):\n",
    "    def __init__(self,config):\n",
    "        super().__init__()\n",
    "    def forward(self,x):\n",
    "        return x\n",
    "class LayerNorm(nn.Module):\n",
    "    def __init__(self, normalised_shape, eps=1e-6):\n",
    "        super().__init__()\n",
    "    def forward(self,x):\n",
    "        return x\n",
    "\n"
   ],
   "id": "4bb79e5ab1baf62a",
   "outputs": [],
   "execution_count": 20
  },
  {
   "metadata": {
    "ExecuteTime": {
     "end_time": "2025-04-10T11:24:33.843835Z",
     "start_time": "2025-04-10T11:24:33.832014Z"
    }
   },
   "cell_type": "code",
   "source": [
    "class LayerNormalization(nn.Module):\n",
    "    def __init__(self, emb_dim):\n",
    "        super().__init__()\n",
    "        self.eps = 1e-5\n",
    "        self.scale = nn.Parameter(torch.ones(emb_dim))\n",
    "        self.shift = nn.Parameter(torch.zeros(emb_dim))\n",
    "    def forward(self,x):\n",
    "        mean= x.mean(-1, keepdim=True)\n",
    "        variance = x.var(-1, keepdim=True)\n",
    "        norm_x=(x-mean)/(torch.sqrt(variance+self.eps))\n",
    "        return self.scale*norm_x + self.shift"
   ],
   "id": "3f60825a05698f50",
   "outputs": [],
   "execution_count": 26
  },
  {
   "metadata": {},
   "cell_type": "markdown",
   "source": "We will use swish activation function.",
   "id": "ee7086fdb0d258aa"
  },
  {
   "metadata": {
    "ExecuteTime": {
     "end_time": "2025-04-10T11:31:23.665750Z",
     "start_time": "2025-04-10T11:31:23.653772Z"
    }
   },
   "cell_type": "code",
   "source": [
    "class Swish(nn.Module):\n",
    "    def __init__(self):\n",
    "        super(Swish, self).__init__()\n",
    "    def forward(self, x):\n",
    "        return x * torch.sigmoid(x)"
   ],
   "id": "aafae17704f79949",
   "outputs": [],
   "execution_count": 28
  },
  {
   "metadata": {
    "ExecuteTime": {
     "end_time": "2025-04-10T11:38:13.525272Z",
     "start_time": "2025-04-10T11:38:13.516168Z"
    }
   },
   "cell_type": "code",
   "source": [
    "class FeedForward(nn.Module):\n",
    "    def __init__(self, config):\n",
    "        super().__init__()\n",
    "        self.layers=nn.Sequential(\n",
    "            nn.Linear(config[\"emb_dim\"], 4*config[\"emb_dim\"]),\n",
    "            Swish(),\n",
    "            nn.Linear(4*config[\"emb_dim\"], config[\"emb_dim\"]),\n",
    "        )\n",
    "    def forward(self, x):\n",
    "        return self.layers(x)\n",
    "\n",
    "    #STOPPED AT PAGE NUMBER 129\n"
   ],
   "id": "4b3a9eeaf0282a32",
   "outputs": [],
   "execution_count": 30
  }
 ],
 "metadata": {
  "kernelspec": {
   "display_name": "Python 3",
   "language": "python",
   "name": "python3"
  },
  "language_info": {
   "codemirror_mode": {
    "name": "ipython",
    "version": 2
   },
   "file_extension": ".py",
   "mimetype": "text/x-python",
   "name": "python",
   "nbconvert_exporter": "python",
   "pygments_lexer": "ipython2",
   "version": "2.7.6"
  }
 },
 "nbformat": 4,
 "nbformat_minor": 5
}
